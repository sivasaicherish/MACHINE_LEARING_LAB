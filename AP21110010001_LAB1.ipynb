{
 "cells": [
  {
   "cell_type": "markdown",
   "id": "8212ced5",
   "metadata": {},
   "source": [
    "# Lab- 1 Machine Learning - AP21110010001\n"
   ]
  },
  {
   "cell_type": "code",
   "execution_count": 2,
   "id": "2c22b4b8",
   "metadata": {},
   "outputs": [],
   "source": [
    "import numpy as np\n",
    "import pandas as pd"
   ]
  },
  {
   "cell_type": "markdown",
   "id": "144fffd9",
   "metadata": {},
   "source": [
    "### Introduction To Numpy\n",
    "\n",
    "1. Write a NumPy program to multiply two given arrays of same size element-by-element.\n",
    "2. Write a NumPy program to find the missing data in a given array.\n",
    "3. Write a NumPy program to test whether each element of a 1-D array is also present in a second array.\n",
    "4. Write a NumPy program to save a NumPy array to a text file.\n",
    "5. Write a NumPy program to Create a 1-D array of 30 evenly spaced elements between 2.5. and 6.5, inclusive.\n"
   ]
  },
  {
   "cell_type": "code",
   "execution_count": 3,
   "id": "113e5bda",
   "metadata": {},
   "outputs": [
    {
     "name": "stdout",
     "output_type": "stream",
     "text": [
      "[ 12  46  39 176]\n"
     ]
    }
   ],
   "source": [
    "import numpy as np\n",
    "\n",
    "a1 = np.array([1, 2, 3, 4])\n",
    "a2 = np.array([12, 23, 13, 44])\n",
    "result = np.multiply(a1, a2)\n",
    "\n",
    "print(result)\n"
   ]
  },
  {
   "cell_type": "code",
   "execution_count": 3,
   "id": "bf3fe459",
   "metadata": {},
   "outputs": [
    {
     "name": "stdout",
     "output_type": "stream",
     "text": [
      "Missing data indices: [2 5]\n"
     ]
    }
   ],
   "source": [
    "import numpy as np\n",
    "\n",
    "data = np.array([1, 2, np.nan, 4, 5, np.nan])\n",
    "missing_indices = np.where(np.isnan(data))[0]\n",
    "\n",
    "print(\"Missing data indices:\", missing_indices)\n"
   ]
  },
  {
   "cell_type": "code",
   "execution_count": 4,
   "id": "365c8eea",
   "metadata": {},
   "outputs": [
    {
     "name": "stdout",
     "output_type": "stream",
     "text": [
      "Presence of elements in array2: [False False  True False  True]\n"
     ]
    }
   ],
   "source": [
    "import numpy as np\n",
    "\n",
    "array1 = np.array([1, 2, 3, 4, 5])\n",
    "array2 = np.array([3, 5, 7, 9])\n",
    "\n",
    "are_present = np.isin(array1, array2)\n",
    "\n",
    "print(\"Presence of elements in array2:\", are_present)\n"
   ]
  },
  {
   "cell_type": "code",
   "execution_count": 4,
   "id": "6a819717",
   "metadata": {},
   "outputs": [],
   "source": [
    "\n",
    "\n",
    "arr_to_save = np.array([[1, 2, 3], [4, 5, 6]])\n",
    "\n",
    "np.savetxt('saved_array.txt', arr_to_save, fmt='%d', delimiter=',')\n"
   ]
  },
  {
   "cell_type": "code",
   "execution_count": 7,
   "id": "d23497ef",
   "metadata": {},
   "outputs": [
    {
     "name": "stdout",
     "output_type": "stream",
     "text": [
      "Evenly spaced array: [2.5        2.63793103 2.77586207 2.9137931  3.05172414 3.18965517\n",
      " 3.32758621 3.46551724 3.60344828 3.74137931 3.87931034 4.01724138\n",
      " 4.15517241 4.29310345 4.43103448 4.56896552 4.70689655 4.84482759\n",
      " 4.98275862 5.12068966 5.25862069 5.39655172 5.53448276 5.67241379\n",
      " 5.81034483 5.94827586 6.0862069  6.22413793 6.36206897 6.5       ]\n"
     ]
    }
   ],
   "source": [
    "import numpy as np\n",
    "\n",
    "evenly_spaced_array = np.linspace(2.5, 6.5, 30)\n",
    "\n",
    "print(\"Evenly spaced array:\", evenly_spaced_array)\n"
   ]
  },
  {
   "cell_type": "markdown",
   "id": "1ea6f230",
   "metadata": {},
   "source": [
    "## Introduction to Pandas (Series and Dataframes)\n",
    "1. Write a Pandas program to convert Series of lists to one Series.\n",
    "2. Write a Pandas program to create a subset of a given series based on value and condition.\n",
    "3. Write a Pandas program to display most frequent value in a given series and replace everything else as 'Other' in the series.\n",
    "4. Write a Pandas program to find the positions of numbers that are multiples of 5 of a given series.\n",
    "5. Write a Pandas program to calculate the number of characters in each word in a given series.\n",
    "6. Write a Pandas program to convert year-month string to dates adding a specified day of the month.\n",
    "7. Write a Pandas program to create and display a DataFrame from a specified dictionary data which has the index labels.\n",
    "8. Write a Pandas program to select the rows where the number of attempts in the examination is greater than 2.\n",
    "9. Write a Pandas program to append a new row 'k' to data frame with given values for each column. Now delete the new row and return the original DataFrame.\n",
    "10. Write a Pandas program to sort the DataFrame first by 'name' in descending order, then by 'score' in ascending order.\n",
    "11. Write a Pandas program to replace the 'qualify' column contains the values 'yes' and 'no' with True and False.\n",
    "112. Write a Pandas program to remove infinite values from a given DataFrame.\n"
   ]
  },
  {
   "cell_type": "code",
   "execution_count": 8,
   "id": "ea9fcb93",
   "metadata": {},
   "outputs": [
    {
     "name": "stdout",
     "output_type": "stream",
     "text": [
      "Converted Series:\n",
      "0    1\n",
      "1    2\n",
      "2    3\n",
      "3    4\n",
      "4    5\n",
      "5    6\n",
      "6    7\n",
      "7    8\n",
      "8    9\n",
      "dtype: int64\n"
     ]
    }
   ],
   "source": [
    "import pandas as pd\n",
    "\n",
    "series_of_lists = pd.Series([[1, 2, 3], [4, 5, 6], [7, 8, 9]])\n",
    "one_series = series_of_lists.apply(pd.Series).stack().reset_index(drop=True)\n",
    "\n",
    "print(\"Converted Series:\")\n",
    "print(one_series)\n"
   ]
  },
  {
   "cell_type": "code",
   "execution_count": 9,
   "id": "3be588a0",
   "metadata": {},
   "outputs": [
    {
     "name": "stdout",
     "output_type": "stream",
     "text": [
      "Subset based on condition:\n",
      "1    [4, 5, 6]\n",
      "dtype: object\n"
     ]
    }
   ],
   "source": [
    "subset_condition = series_of_lists[series_of_lists.apply(lambda x: 5 in x)]\n",
    "\n",
    "print(\"Subset based on condition:\")\n",
    "print(subset_condition)\n"
   ]
  },
  {
   "cell_type": "code",
   "execution_count": 6,
   "id": "3f396d1f",
   "metadata": {},
   "outputs": [
    {
     "name": "stdout",
     "output_type": "stream",
     "text": [
      "Processed Series:\n",
      "0    Other\n",
      "1    Other\n",
      "2    Other\n",
      "3    Other\n",
      "4    Other\n",
      "5    Other\n",
      "6        4\n",
      "7        4\n",
      "8        4\n",
      "9        4\n",
      "dtype: object\n"
     ]
    },
    {
     "name": "stderr",
     "output_type": "stream",
     "text": [
      "/var/folders/1h/hf1v9s657bj3n228p7gphrrr0000gn/T/ipykernel_96684/706699792.py:3: FutureWarning: Setting an item of incompatible dtype is deprecated and will raise an error in a future version of pandas. Value 'Other' has dtype incompatible with int64, please explicitly cast to a compatible dtype first.\n",
      "  series_to_process[series_to_process != most_frequent_value] = 'Other'\n"
     ]
    }
   ],
   "source": [
    "series_to_process = pd.Series([1, 2, 2, 3, 3, 3, 4, 4, 4, 4])\n",
    "most_frequent_value = series_to_process.mode()[0]\n",
    "series_to_process[series_to_process != most_frequent_value] = 'Other'\n",
    "\n",
    "print(\"Processed Series:\")\n",
    "print(series_to_process)\n"
   ]
  },
  {
   "cell_type": "code",
   "execution_count": 11,
   "id": "fd1f5457",
   "metadata": {},
   "outputs": [
    {
     "name": "stdout",
     "output_type": "stream",
     "text": [
      "Positions of multiples of 5:\n",
      "[0, 1, 2, 3, 4, 5]\n"
     ]
    }
   ],
   "source": [
    "numbers_series = pd.Series([5, 10, 15, 20, 25, 30])\n",
    "positions_of_multiples_of_5 = numbers_series.index[numbers_series % 5 == 0].tolist()\n",
    "\n",
    "print(\"Positions of multiples of 5:\")\n",
    "print(positions_of_multiples_of_5)\n"
   ]
  },
  {
   "cell_type": "code",
   "execution_count": 12,
   "id": "33a8603a",
   "metadata": {},
   "outputs": [
    {
     "name": "stdout",
     "output_type": "stream",
     "text": [
      "Word lengths:\n",
      "0    5\n",
      "1    6\n",
      "2    6\n",
      "dtype: int64\n"
     ]
    }
   ],
   "source": [
    "words_series = pd.Series(['apple', 'banana', 'cherry'])\n",
    "word_lengths = words_series.apply(lambda x: len(x))\n",
    "\n",
    "print(\"Word lengths:\")\n",
    "print(word_lengths)\n"
   ]
  },
  {
   "cell_type": "code",
   "execution_count": 13,
   "id": "b8932bde",
   "metadata": {},
   "outputs": [
    {
     "name": "stdout",
     "output_type": "stream",
     "text": [
      "Converted Dates:\n",
      "0   2022-01-15\n",
      "1   2022-02-15\n",
      "2   2022-03-15\n",
      "dtype: datetime64[ns]\n"
     ]
    }
   ],
   "source": [
    "year_month_series = pd.Series(['2022-01', '2022-02', '2022-03'])\n",
    "dates_series = pd.to_datetime(year_month_series + '-15')\n",
    "\n",
    "print(\"Converted Dates:\")\n",
    "print(dates_series)\n"
   ]
  },
  {
   "cell_type": "code",
   "execution_count": 14,
   "id": "136bda81",
   "metadata": {},
   "outputs": [
    {
     "name": "stdout",
     "output_type": "stream",
     "text": [
      "DataFrame:\n",
      "      Name  Age\n",
      "A    Alice   25\n",
      "B      Bob   30\n",
      "C  Charlie   35\n"
     ]
    }
   ],
   "source": [
    "data_dict = {'Name': ['Alice', 'Bob', 'Charlie'], 'Age': [25, 30, 35]}\n",
    "df = pd.DataFrame(data_dict, index=['A', 'B', 'C'])\n",
    "\n",
    "print(\"DataFrame:\")\n",
    "print(df)\n"
   ]
  },
  {
   "cell_type": "code",
   "execution_count": 15,
   "id": "cf73fb3f",
   "metadata": {},
   "outputs": [
    {
     "name": "stdout",
     "output_type": "stream",
     "text": [
      "Selected Rows:\n",
      "  Name  Attempts\n",
      "1  Bob         3\n"
     ]
    }
   ],
   "source": [
    "import pandas as pd\n",
    "\n",
    "exam_data = {'Name': ['Alice', 'Bob', 'Charlie'], 'Attempts': [1, 3, 2]}\n",
    "exam_df = pd.DataFrame(exam_data)\n",
    "\n",
    "selected_rows = exam_df[exam_df['Attempts'] > 2]\n",
    "\n",
    "print(\"Selected Rows:\")\n",
    "print(selected_rows)\n"
   ]
  },
  {
   "cell_type": "code",
   "execution_count": 17,
   "id": "b056e0a6",
   "metadata": {},
   "outputs": [
    {
     "name": "stdout",
     "output_type": "stream",
     "text": [
      "DataFrame with New Row:\n",
      "       Name\n",
      "0   Sanjana\n",
      "1  Srujitha\n",
      "2   Cherish\n",
      "3       Joy\n",
      "\n",
      "Original DataFrame after Deleting 'Mahitha':\n"
     ]
    },
    {
     "data": {
      "text/html": [
       "<div>\n",
       "<style scoped>\n",
       "    .dataframe tbody tr th:only-of-type {\n",
       "        vertical-align: middle;\n",
       "    }\n",
       "\n",
       "    .dataframe tbody tr th {\n",
       "        vertical-align: top;\n",
       "    }\n",
       "\n",
       "    .dataframe thead th {\n",
       "        text-align: right;\n",
       "    }\n",
       "</style>\n",
       "<table border=\"1\" class=\"dataframe\">\n",
       "  <thead>\n",
       "    <tr style=\"text-align: right;\">\n",
       "      <th></th>\n",
       "      <th>Name</th>\n",
       "    </tr>\n",
       "  </thead>\n",
       "  <tbody>\n",
       "    <tr>\n",
       "      <th>0</th>\n",
       "      <td>Sanjana</td>\n",
       "    </tr>\n",
       "    <tr>\n",
       "      <th>1</th>\n",
       "      <td>Srujitha</td>\n",
       "    </tr>\n",
       "    <tr>\n",
       "      <th>2</th>\n",
       "      <td>Cherish</td>\n",
       "    </tr>\n",
       "    <tr>\n",
       "      <th>3</th>\n",
       "      <td>Joy</td>\n",
       "    </tr>\n",
       "  </tbody>\n",
       "</table>\n",
       "</div>"
      ],
      "text/plain": [
       "       Name\n",
       "0   Sanjana\n",
       "1  Srujitha\n",
       "2   Cherish\n",
       "3       Joy"
      ]
     },
     "execution_count": 17,
     "metadata": {},
     "output_type": "execute_result"
    }
   ],
   "source": [
    "#Write a Pandas program to append a new row 'k' to data frame with given values for each column. Now delete the new row and return the original DataFrame.\n",
    "import pandas as pd\n",
    "\n",
    "data = {'Name': ['Sanjana', 'Srujitha', 'Cherish', 'Joy']}\n",
    "df = pd.DataFrame(data)\n",
    "\n",
    "new_row_values = {'Name': 'Mahitha'}\n",
    "\n",
    "print(\"DataFrame with New Row:\")\n",
    "print(df)\n",
    "\n",
    "df = df.drop(df[df['Name'] == 'Mahitha'].index)\n",
    "print(\"\\nOriginal DataFrame after Deleting 'Mahitha':\")\n",
    "df\n"
   ]
  },
  {
   "cell_type": "code",
   "execution_count": 18,
   "id": "dfe30385",
   "metadata": {},
   "outputs": [
    {
     "name": "stdout",
     "output_type": "stream",
     "text": [
      "Sorted DataFrame:\n",
      "      Name  Score\n",
      "2  Charlie     75\n",
      "1      Bob     90\n",
      "0    Alice     80\n"
     ]
    }
   ],
   "source": [
    "# Assuming the DataFrame 'df_to_sort' from the previous examples\n",
    "df_to_sort = pd.DataFrame({'Name': ['Alice', 'Bob', 'Charlie'], 'Score': [80, 90, 75]})\n",
    "\n",
    "sorted_df = df_to_sort.sort_values(by=['Name', 'Score'], ascending=[False, True])\n",
    "\n",
    "print(\"Sorted DataFrame:\")\n",
    "print(sorted_df)\n"
   ]
  },
  {
   "cell_type": "code",
   "execution_count": 21,
   "id": "32a8698d",
   "metadata": {},
   "outputs": [
    {
     "name": "stdout",
     "output_type": "stream",
     "text": [
      "Sorted DataFrame:\n"
     ]
    },
    {
     "data": {
      "text/html": [
       "<div>\n",
       "<style scoped>\n",
       "    .dataframe tbody tr th:only-of-type {\n",
       "        vertical-align: middle;\n",
       "    }\n",
       "\n",
       "    .dataframe tbody tr th {\n",
       "        vertical-align: top;\n",
       "    }\n",
       "\n",
       "    .dataframe thead th {\n",
       "        text-align: right;\n",
       "    }\n",
       "</style>\n",
       "<table border=\"1\" class=\"dataframe\">\n",
       "  <thead>\n",
       "    <tr style=\"text-align: right;\">\n",
       "      <th></th>\n",
       "      <th>name</th>\n",
       "      <th>score</th>\n",
       "      <th>qualify</th>\n",
       "    </tr>\n",
       "  </thead>\n",
       "  <tbody>\n",
       "    <tr>\n",
       "      <th>1</th>\n",
       "      <td>Srujitha</td>\n",
       "      <td>85</td>\n",
       "      <td>yes</td>\n",
       "    </tr>\n",
       "    <tr>\n",
       "      <th>0</th>\n",
       "      <td>Sanjana</td>\n",
       "      <td>90</td>\n",
       "      <td>yes</td>\n",
       "    </tr>\n",
       "    <tr>\n",
       "      <th>3</th>\n",
       "      <td>Joy</td>\n",
       "      <td>95</td>\n",
       "      <td>yes</td>\n",
       "    </tr>\n",
       "    <tr>\n",
       "      <th>2</th>\n",
       "      <td>Cherish</td>\n",
       "      <td>75</td>\n",
       "      <td>no</td>\n",
       "    </tr>\n",
       "  </tbody>\n",
       "</table>\n",
       "</div>"
      ],
      "text/plain": [
       "       name  score qualify\n",
       "1  Srujitha     85     yes\n",
       "0   Sanjana     90     yes\n",
       "3       Joy     95     yes\n",
       "2   Cherish     75      no"
      ]
     },
     "execution_count": 21,
     "metadata": {},
     "output_type": "execute_result"
    }
   ],
   "source": [
    "#Write a Pandas program to sort the DataFrame first by 'name' in descending order, then by 'score' in ascending order.\n",
    "\n",
    "data = {'name': ['Sanjana', 'Srujitha', 'Cherish', 'Joy'],\n",
    "        'score': [90, 85, 75, 95],\n",
    "        'qualify': ['yes', 'yes', 'no', 'yes']}\n",
    "\n",
    "df = pd.DataFrame(data)\n",
    "\n",
    "\n",
    "df_sorted = df.sort_values(by=['name', 'score'], ascending=[False, True])\n",
    "print(\"Sorted DataFrame:\")\n",
    "df_sorted\n"
   ]
  },
  {
   "cell_type": "code",
   "execution_count": 22,
   "id": "4b0c9cad",
   "metadata": {},
   "outputs": [
    {
     "name": "stdout",
     "output_type": "stream",
     "text": [
      "DataFrame without infinite values:\n",
      "  Values\n",
      "0    1.0\n",
      "1    2.0\n",
      "2   <NA>\n",
      "3    4.0\n",
      "4   <NA>\n"
     ]
    }
   ],
   "source": [
    "# Assuming the DataFrame 'df_with_inf' from the previous examples\n",
    "df_with_inf = pd.DataFrame({'Values': [1, 2, float('inf'), 4, float('-inf')]})\n",
    "df_without_inf = df_with_inf.replace([float('inf'), float('-inf')], pd.NA)\n",
    "\n",
    "print(\"DataFrame without infinite values:\")\n",
    "print(df_without_inf)\n"
   ]
  },
  {
   "cell_type": "code",
   "execution_count": null,
   "id": "c0cefb81",
   "metadata": {},
   "outputs": [],
   "source": []
  }
 ],
 "metadata": {
  "kernelspec": {
   "display_name": "Python 3 (ipykernel)",
   "language": "python",
   "name": "python3"
  },
  "language_info": {
   "codemirror_mode": {
    "name": "ipython",
    "version": 3
   },
   "file_extension": ".py",
   "mimetype": "text/x-python",
   "name": "python",
   "nbconvert_exporter": "python",
   "pygments_lexer": "ipython3",
   "version": "3.10.0"
  }
 },
 "nbformat": 4,
 "nbformat_minor": 5
}
